{
 "cells": [
  {
   "cell_type": "markdown",
   "metadata": {
    "id": "IOIMSJEVeKF-"
   },
   "source": [
    "# DOWNGRADE TO PYTHON 3.8\n",
    "AS CURRENTLY NVIDIA MODULUS SYM DOES NOT SUPPORT PYTHON 3.10\n",
    "\n",
    "\n",
    "\n",
    "\n"
   ]
  },
  {
   "cell_type": "code",
   "execution_count": null,
   "metadata": {
    "colab": {
     "background_save": true
    },
    "id": "yoC0w_6xh7-S"
   },
   "outputs": [],
   "source": [
    "!sudo apt-get update -y\n",
    "!sudo apt-get install python3.8\n",
    "\n",
    "!sudo update-alternatives --install /usr/bin/python3 python3 /usr/bin/python3.8\n",
    "!sudo update-alternatives --config python3\n",
    "!sudo apt install python3-pip"
   ]
  },
  {
   "cell_type": "markdown",
   "metadata": {
    "id": "I44cbGfZegjt"
   },
   "source": [
    "#UPDATE PIP"
   ]
  },
  {
   "cell_type": "code",
   "execution_count": null,
   "metadata": {
    "id": "00TSKFEciZhH"
   },
   "outputs": [],
   "source": [
    "%pip --version\n",
    "%pip install --upgrade pip"
   ]
  },
  {
   "cell_type": "markdown",
   "metadata": {
    "id": "Sd7152VCej9z"
   },
   "source": [
    "#INSTALL MODULUS"
   ]
  },
  {
   "cell_type": "code",
   "execution_count": null,
   "metadata": {
    "id": "tBFhHnXOi9EZ"
   },
   "outputs": [],
   "source": [
    "# Missing dependencies in modulus sym (fixed in next version)\n",
    "%pip install tensorboard pandas\n",
    "%pip install nvidia-modulus.sym"
   ]
  },
  {
   "cell_type": "markdown",
   "metadata": {
    "id": "3VmnTmXsiX16"
   },
   "source": []
  },
  {
   "cell_type": "markdown",
   "metadata": {
    "id": "szBxLnrDenUE"
   },
   "source": [
    "#UPDATE LIBRARIES"
   ]
  },
  {
   "cell_type": "code",
   "execution_count": null,
   "metadata": {
    "id": "nTz5PGvZjqNJ"
   },
   "outputs": [],
   "source": [
    "!pip install scikit-learn==1.2.2\n",
    "!pip install fsspec==2023.6.0 notebook==6.5.5\n"
   ]
  },
  {
   "cell_type": "markdown",
   "metadata": {
    "id": "jrgi8F2jerOX"
   },
   "source": [
    "#CLONE GIT REPO"
   ]
  },
  {
   "cell_type": "code",
   "execution_count": null,
   "metadata": {
    "id": "wavMgJJdkSGR"
   },
   "outputs": [],
   "source": [
    "!git clone https://<username>:<token>@gitlab.com/nvidia/modulus/examples.git\n"
   ]
  },
  {
   "cell_type": "markdown",
   "metadata": {
    "id": "Yawia8dKeunW"
   },
   "source": [
    "#RUN"
   ]
  },
  {
   "cell_type": "code",
   "execution_count": null,
   "metadata": {
    "id": "MCo2UaiWlYch"
   },
   "outputs": [],
   "source": [
    "%cd examples/helmholtz/\n",
    "!python helmholtz.py"
   ]
  }
 ],
 "metadata": {
  "accelerator": "GPU",
  "colab": {
   "provenance": []
  },
  "kernelspec": {
   "display_name": "Python 3 (ipykernel)",
   "language": "python",
   "name": "python3"
  },
  "language_info": {
   "codemirror_mode": {
    "name": "ipython",
    "version": 3
   },
   "file_extension": ".py",
   "mimetype": "text/x-python",
   "name": "python",
   "nbconvert_exporter": "python",
   "pygments_lexer": "ipython3",
   "version": "3.11.4"
  }
 },
 "nbformat": 4,
 "nbformat_minor": 1
}
